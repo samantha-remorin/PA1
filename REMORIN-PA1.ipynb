{
 "cells": [
  {
   "cell_type": "markdown",
   "id": "75b05269-459e-445b-a6e0-6b7335b6a6c1",
   "metadata": {},
   "source": [
    "# Programming Assignment #1\n",
    "### Introduction to Python Programming\n",
    "#### Submitted by: Samantha Remorin\n",
    "#### August 26, 2025"
   ]
  },
  {
   "cell_type": "markdown",
   "id": "ea4f635c-c531-43f0-8e2c-cbdb5831dc54",
   "metadata": {},
   "source": [
    "**NO. 1 ALPHABET SOUP PROBLEM:** This program creates a function that takes a string and returns a string with its letters in alphabetical order."
   ]
  },
  {
   "cell_type": "code",
   "execution_count": 5,
   "id": "2a294c8e-daea-47c6-8083-c914229e3d2a",
   "metadata": {},
   "outputs": [
    {
     "name": "stdin",
     "output_type": "stream",
     "text": [
      "Enter a word:  hello\n"
     ]
    },
    {
     "name": "stdout",
     "output_type": "stream",
     "text": [
      "ehllo\n"
     ]
    }
   ],
   "source": [
    "#Function that returns sorted word that is in alphabetical order\n",
    "def alphabetSoup(word):\n",
    "    # ''.join means letters are joined with no spaces\n",
    "    # sort the characters into alphabetical order and returns its sorted word\n",
    "    return''.join (sorted(word))\n",
    "\n",
    "# User input\n",
    "word = input(\"Enter a word: \")\n",
    "\n",
    "# Call the function alphabetSoup and print the sorted word\n",
    "print(alphabetSoup(word))"
   ]
  },
  {
   "cell_type": "markdown",
   "id": "0c694c1b-606e-4325-af5e-c7fd2a7fd7b6",
   "metadata": {},
   "source": [
    "**NO. 2 EMOTICON PROBLEM:** This program creates a function that changes specific words into emoticons. "
   ]
  },
  {
   "cell_type": "code",
   "execution_count": 6,
   "id": "86863c61-ce06-4bcc-9363-8a1be593d935",
   "metadata": {},
   "outputs": [
    {
     "name": "stdin",
     "output_type": "stream",
     "text": [
      "Enter a sentence:  I am sad\n"
     ]
    },
    {
     "name": "stdout",
     "output_type": "stream",
     "text": [
      "I am :((\n"
     ]
    }
   ],
   "source": [
    "# Function that converts certain words to emoticons\n",
    "def emotify(string):\n",
    "    # Check if the string contains the word \"Smile\" or \"smile\"\n",
    "    if \"Smile\" in string or \"smile\" in string:\n",
    "        # Replace the word with its corresponding emoticon\n",
    "        return string.replace(\"Smile\", \":)\").replace(\"smile\", \":)\")\n",
    "        \n",
    "    # Check if the string contains the word \"Grin\" or \"grin\"\n",
    "    elif \"Grin\" in string or \"grin\" in string:\n",
    "        # Replace the word with its corresponding emoticon\n",
    "        return string.replace(\"Grin\", \":D\").replace(\"grin\", \":D\")\n",
    "\n",
    "    # Check if the string contains the word \"Sad\" or \"sad\"\n",
    "    elif \"Sad\" in string  or \"sad\" in string:\n",
    "        # Replace the word with its corresponding emoticon\n",
    "        return string.replace(\"Sad\", \":((\").replace(\"sad\", \":((\")\n",
    "\n",
    "     # Check if the string contains the word \"Mad\" or \"mad\"\n",
    "    elif \"Mad\" in string or \"mad\" in string:\n",
    "        # Replace the word with its corresponding emoticon\n",
    "        return string.replace(\"Mad\", \">:(\").replace(\"mad\", \">:(\")\n",
    "        \n",
    "    #if no condition is satisfied, it will return the string\n",
    "    else:\n",
    "        return string\n",
    "\n",
    "#Ask the user for input\n",
    "text = input(\"Enter a sentence: \")\n",
    "\n",
    "# Call the function and print the result\n",
    "print(emotify(text))"
   ]
  },
  {
   "cell_type": "markdown",
   "id": "17644534-34cd-4764-b1ef-7f2c402bd13a",
   "metadata": {},
   "source": [
    "**NO. 3 UNPACKING LIST PROBLEM:** This program unpacks the list into three variables, being first, middle, and last, with middle being everything in between the first and last element. Then it will print all three variables."
   ]
  },
  {
   "cell_type": "code",
   "execution_count": 14,
   "id": "1b382855-53aa-439d-a935-dfad3ce2b4eb",
   "metadata": {},
   "outputs": [
    {
     "name": "stdout",
     "output_type": "stream",
     "text": [
      "First: 1\n",
      "Middle: [2, 3, 4, 5]\n",
      "Last: 6\n"
     ]
    }
   ],
   "source": [
    "# Create a list of numbers\n",
    "numbers = [1,2,3,4,5,6]\n",
    "\n",
    "# Print the first element using index 0\n",
    "print(\"First:\", numbers[0])\n",
    "\n",
    "# Print the middle elements by slicing\n",
    "# Starts at index 1 and goes up to (but does not include) the last element (-1)\n",
    "print(\"Middle:\", numbers[1:-1])\n",
    "\n",
    "#Print the last element using index -1\n",
    "print(\"Last:\", numbers[-1])"
   ]
  }
 ],
 "metadata": {
  "kernelspec": {
   "display_name": "Python [conda env:base] *",
   "language": "python",
   "name": "conda-base-py"
  },
  "language_info": {
   "codemirror_mode": {
    "name": "ipython",
    "version": 3
   },
   "file_extension": ".py",
   "mimetype": "text/x-python",
   "name": "python",
   "nbconvert_exporter": "python",
   "pygments_lexer": "ipython3",
   "version": "3.13.5"
  }
 },
 "nbformat": 4,
 "nbformat_minor": 5
}
